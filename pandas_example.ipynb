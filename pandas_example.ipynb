{
 "cells": [
  {
   "cell_type": "markdown",
   "id": "possible-brief",
   "metadata": {},
   "source": [
    "# Clean up data set\n",
    "\n",
    "## 1. Load what libraries you need."
   ]
  },
  {
   "cell_type": "code",
   "execution_count": 13,
   "id": "related-saturday",
   "metadata": {},
   "outputs": [],
   "source": [
    "import pandas as pd\n",
    "import numpy as np\n",
    "from datetime import datetime\n",
    "import matplotlib.pyplot as plt\n",
    "from matplotlib.ticker import FormatStrFormatter\n",
    "plt.style.use('ggplot')"
   ]
  },
  {
   "cell_type": "markdown",
   "id": "coated-copyright",
   "metadata": {},
   "source": [
    "## 2. Load the data from file. \n",
    "- index_col makes the date column an index. \n",
    "- header[1,2] defines the second and third row as multilevel columns (platform, the rest per platform).\n",
    "https://stackoverflow.com/questions/22137723/convert-number-strings-with-commas-in-pandas-dataframe-to-float"
   ]
  },
  {
   "cell_type": "code",
   "execution_count": 14,
   "id": "pediatric-housing",
   "metadata": {},
   "outputs": [
    {
     "name": "stdout",
     "output_type": "stream",
     "text": [
      "            Google Play Unnamed: 2_level_0 Unnamed: 3_level_0  \\\n",
      "Day of Date ActiveUsers            Revenue              Day 1   \n",
      "2019-04-01         3312                233             48.44%   \n",
      "2019-04-02         3416                318             52.44%   \n",
      "2019-04-03         3483                279             49.72%   \n",
      "2019-04-04         3429                226             45.58%   \n",
      "2019-04-05         3314                303             46.84%   \n",
      "\n",
      "            Unnamed: 4_level_0 Unnamed: 5_level_0 Unnamed: 6_level_0  \\\n",
      "Day of Date             Day 10             Day 11             Day 12   \n",
      "2019-04-01              11.33%              9.56%              7.78%   \n",
      "2019-04-02              13.56%             11.57%             10.67%   \n",
      "2019-04-03              12.29%             11.92%             11.36%   \n",
      "2019-04-04              14.62%             12.69%             11.54%   \n",
      "2019-04-05              15.25%             12.42%             10.89%   \n",
      "\n",
      "            Unnamed: 7_level_0 Unnamed: 8_level_0 Unnamed: 9_level_0  \\\n",
      "Day of Date             Day 13             Day 14             Day 15   \n",
      "2019-04-01               8.89%              7.78%              8.00%   \n",
      "2019-04-02              10.49%             10.85%              8.50%   \n",
      "2019-04-03              10.80%              9.87%              8.01%   \n",
      "2019-04-04              10.77%             11.54%              9.04%   \n",
      "2019-04-05              10.24%              8.93%              8.06%   \n",
      "\n",
      "            Unnamed: 10_level_0  ... Unnamed: 53_level_0 Unnamed: 54_level_0  \\\n",
      "Day of Date              Day 16  ...              Day 27              Day 28   \n",
      "2019-04-01                7.11%  ...               0.00%               0.00%   \n",
      "2019-04-02                9.58%  ...               8.33%               8.33%   \n",
      "2019-04-03                8.57%  ...              13.04%              13.04%   \n",
      "2019-04-04                8.27%  ...               3.85%               3.85%   \n",
      "2019-04-05                8.93%  ...              10.00%               5.00%   \n",
      "\n",
      "            Unnamed: 55_level_0 Unnamed: 56_level_0 Unnamed: 57_level_0  \\\n",
      "Day of Date              Day 29               Day 3               Day 4   \n",
      "2019-04-01                0.00%              13.04%              13.04%   \n",
      "2019-04-02                8.33%              29.17%              37.50%   \n",
      "2019-04-03               13.04%              34.78%              26.09%   \n",
      "2019-04-04                3.85%              30.77%              19.23%   \n",
      "2019-04-05                5.00%              20.00%              30.00%   \n",
      "\n",
      "            Unnamed: 58_level_0 Unnamed: 59_level_0 Unnamed: 60_level_0  \\\n",
      "Day of Date               Day 5               Day 6               Day 7   \n",
      "2019-04-01                8.70%              13.04%              17.39%   \n",
      "2019-04-02               29.17%              16.67%              20.83%   \n",
      "2019-04-03               30.43%              21.74%              21.74%   \n",
      "2019-04-04               15.38%              11.54%              15.38%   \n",
      "2019-04-05               25.00%              20.00%              15.00%   \n",
      "\n",
      "            Unnamed: 61_level_0 Unnamed: 62_level_0  \n",
      "Day of Date               Day 8               Day 9  \n",
      "2019-04-01               13.04%               8.70%  \n",
      "2019-04-02               12.50%              12.50%  \n",
      "2019-04-03               21.74%              21.74%  \n",
      "2019-04-04               11.54%              11.54%  \n",
      "2019-04-05                5.00%               0.00%  \n",
      "\n",
      "[5 rows x 62 columns]\n"
     ]
    }
   ],
   "source": [
    "fn='mock_data.csv'\n",
    "df = pd.read_csv(fn,header=[1,2],index_col=0,parse_dates=True,thousands=',')\n",
    "print(df.head() )#show top of table\n",
    "\n"
   ]
  },
  {
   "cell_type": "markdown",
   "id": "reliable-composer",
   "metadata": {},
   "source": [
    "## 3. Deal with ugly confusing headers.\n",
    "Thank you, \n",
    "https://stackoverflow.com/questions/30322581/pandas-read-multiindexed-csv-with-blanks"
   ]
  },
  {
   "cell_type": "code",
   "execution_count": 15,
   "id": "careful-absorption",
   "metadata": {},
   "outputs": [
    {
     "name": "stdout",
     "output_type": "stream",
     "text": [
      "Google Play  ActiveUsers     int64\n",
      "             Revenue         int64\n",
      "             Day 1          object\n",
      "             Day 10         object\n",
      "             Day 11         object\n",
      "                             ...  \n",
      "iOS          Day 5          object\n",
      "             Day 6          object\n",
      "             Day 7          object\n",
      "             Day 8          object\n",
      "             Day 9          object\n",
      "Length: 62, dtype: object\n"
     ]
    }
   ],
   "source": [
    "#pull the column level values into a DataFrame:\n",
    "columns = pd.DataFrame(df.columns.tolist())\n",
    "\n",
    "#then rename the Unnamed: columns to NaN:\n",
    "columns.loc[columns[0].str.startswith('Unnamed:'), 0] = np.nan\n",
    "\n",
    "#and then forward-fill the NaNs:\n",
    "columns[0] = columns[0].fillna(method='ffill')\n",
    "\n",
    "#Now we can find the remaining NaNs and fill them with empty strings:\n",
    "mask = pd.isnull(columns[0])\n",
    "columns[0] = columns[0].fillna('')\n",
    "\n",
    "#To make the first two columns, A and B, indexable as df['A'] and df['B'] -- \n",
    "#as though they were single-leveled -- you could swap the values in the first and second columns:\n",
    "columns.loc[mask, [0,1]] = columns.loc[mask, [1,0]].values\n",
    "\n",
    "#Now you can build a new MultiIndex and assign it to df.columns:\n",
    "df.columns = pd.MultiIndex.from_tuples(columns.to_records(index=False).tolist())\n",
    "#df.columns.get_level_values(1)\n",
    "\n",
    "print(df.dtypes)"
   ]
  },
  {
   "cell_type": "markdown",
   "id": "loaded-adoption",
   "metadata": {},
   "source": [
    "## 4. It seems easier to deal with when stacking platforms on top of one another.\n",
    "Some columns aren't numerical. Convert."
   ]
  },
  {
   "cell_type": "code",
   "execution_count": 16,
   "id": "physical-chamber",
   "metadata": {},
   "outputs": [],
   "source": [
    "# stack the platform tables\n",
    "stacked = df.stack(level=0)\n",
    "\n",
    "# We now have 2 row indices, give them a name\n",
    "stacked.index.names = ['Date','Platform']\n",
    "\n",
    "#stacked.reset_index(1,inplace=True) # this makes index a normal column\n",
    "#print(stacked.index)\n",
    "#dates=list(stacked.index.get_level_values(0))"
   ]
  },
  {
   "cell_type": "code",
   "execution_count": 17,
   "id": "outer-crack",
   "metadata": {},
   "outputs": [],
   "source": [
    "# https://stackoverflow.com/questions/25669588/convert-percent-string-to-float-in-pandas-read-csv\n",
    "\n",
    "day_col=[col for col in stacked.columns if col.startswith('Day')]\n",
    "\n",
    "for col in day_col:\n",
    "    if col.startswith('Day'):\n",
    "        stacked[col]=stacked[col].str.rstrip('%').astype('float') / 100.0  \n",
    "        \n",
    "#                     ^ use str funcs to elim '%'     ^ divide by 100\n",
    "# could also be:     .str[:-1].astype(...#                     "
   ]
  },
  {
   "cell_type": "markdown",
   "id": "swedish-hampshire",
   "metadata": {},
   "source": [
    "## 5. We also want a month/year column"
   ]
  },
  {
   "cell_type": "code",
   "execution_count": 18,
   "id": "broadband-guest",
   "metadata": {},
   "outputs": [
    {
     "data": {
      "text/plain": [
       "str"
      ]
     },
     "execution_count": 18,
     "metadata": {},
     "output_type": "execute_result"
    }
   ],
   "source": [
    "stacked['month_year'] = pd.DatetimeIndex(stacked.index.get_level_values(0)).to_period('M').strftime('%b %y')\n",
    "#print(stacked.dtypes)\n",
    "\n",
    "stacked\n",
    "#print(stacked.index)\n",
    "\n",
    "#print(dir(stacked['month_year']))\n",
    "type(stacked['month_year'][0])"
   ]
  },
  {
   "cell_type": "markdown",
   "id": "optional-breast",
   "metadata": {},
   "source": [
    "I'd really like to sort the columns by name.\n",
    "- find Day columns: \n",
    "https://stackoverflow.com/questions/21285380/find-column-whose-name-contains-a-specific-string\n",
    "https://stackoverflow.com/questions/27275236/pandas-best-way-to-select-all-columns-whose-names-start-with-x\n",
    "https://stackoverflow.com/questions/11067027/re-ordering-columns-in-pandas-dataframe-based-on-column-name\n",
    "- parse each string \n",
    "- extract day\n",
    "- get a sort index\n",
    "- then somehow apply this to a subset of cols."
   ]
  },
  {
   "cell_type": "markdown",
   "id": "related-replacement",
   "metadata": {},
   "source": [
    "# Calculations\n",
    "\n",
    "## Ex. 1: Calculate the monthly averages of the daily active users (DAU) for all the months included in the dataset, for each platform and visualize it in a chart."
   ]
  },
  {
   "cell_type": "code",
   "execution_count": null,
   "id": "liked-chicago",
   "metadata": {},
   "outputs": [],
   "source": [
    "https://www.earthdatascience.org/courses/intro-to-earth-data-science/scientific-data-structures-python/pandas-dataframes/run-calculations-summary-statistics-pandas-dataframes/"
   ]
  },
  {
   "cell_type": "code",
   "execution_count": 19,
   "id": "miniature-documentation",
   "metadata": {},
   "outputs": [
    {
     "data": {
      "text/html": [
       "<div>\n",
       "<style scoped>\n",
       "    .dataframe tbody tr th:only-of-type {\n",
       "        vertical-align: middle;\n",
       "    }\n",
       "\n",
       "    .dataframe tbody tr th {\n",
       "        vertical-align: top;\n",
       "    }\n",
       "\n",
       "    .dataframe thead th {\n",
       "        text-align: right;\n",
       "    }\n",
       "</style>\n",
       "<table border=\"1\" class=\"dataframe\">\n",
       "  <thead>\n",
       "    <tr style=\"text-align: right;\">\n",
       "      <th>Platform</th>\n",
       "      <th>Google Play</th>\n",
       "      <th>iOS</th>\n",
       "    </tr>\n",
       "    <tr>\n",
       "      <th>month_year</th>\n",
       "      <th></th>\n",
       "      <th></th>\n",
       "    </tr>\n",
       "  </thead>\n",
       "  <tbody>\n",
       "    <tr>\n",
       "      <th>2019-04-01</th>\n",
       "      <td>3323.266667</td>\n",
       "      <td>154.400000</td>\n",
       "    </tr>\n",
       "    <tr>\n",
       "      <th>2019-05-01</th>\n",
       "      <td>2867.387097</td>\n",
       "      <td>119.645161</td>\n",
       "    </tr>\n",
       "    <tr>\n",
       "      <th>2019-06-01</th>\n",
       "      <td>2264.200000</td>\n",
       "      <td>117.433333</td>\n",
       "    </tr>\n",
       "    <tr>\n",
       "      <th>2019-07-01</th>\n",
       "      <td>1860.290323</td>\n",
       "      <td>117.419355</td>\n",
       "    </tr>\n",
       "    <tr>\n",
       "      <th>2019-08-01</th>\n",
       "      <td>1863.806452</td>\n",
       "      <td>143.064516</td>\n",
       "    </tr>\n",
       "    <tr>\n",
       "      <th>2019-09-01</th>\n",
       "      <td>2353.933333</td>\n",
       "      <td>314.633333</td>\n",
       "    </tr>\n",
       "    <tr>\n",
       "      <th>2019-10-01</th>\n",
       "      <td>1762.516129</td>\n",
       "      <td>338.580645</td>\n",
       "    </tr>\n",
       "    <tr>\n",
       "      <th>2019-11-01</th>\n",
       "      <td>1694.966667</td>\n",
       "      <td>239.400000</td>\n",
       "    </tr>\n",
       "  </tbody>\n",
       "</table>\n",
       "</div>"
      ],
      "text/plain": [
       "Platform    Google Play         iOS\n",
       "month_year                         \n",
       "2019-04-01  3323.266667  154.400000\n",
       "2019-05-01  2867.387097  119.645161\n",
       "2019-06-01  2264.200000  117.433333\n",
       "2019-07-01  1860.290323  117.419355\n",
       "2019-08-01  1863.806452  143.064516\n",
       "2019-09-01  2353.933333  314.633333\n",
       "2019-10-01  1762.516129  338.580645\n",
       "2019-11-01  1694.966667  239.400000"
      ]
     },
     "execution_count": 19,
     "metadata": {},
     "output_type": "execute_result"
    }
   ],
   "source": [
    "table = stacked.pivot_table(index=pd.to_datetime(stacked['month_year'], format='%b %y'),\n",
    "                            columns='Platform',values='ActiveUsers')\n",
    "table\n"
   ]
  },
  {
   "cell_type": "code",
   "execution_count": null,
   "id": "white-skiing",
   "metadata": {},
   "outputs": [],
   "source": [
    "list(stacked['month_year'].unique())"
   ]
  },
  {
   "cell_type": "code",
   "execution_count": 20,
   "id": "large-school",
   "metadata": {},
   "outputs": [
    {
     "data": {
      "image/png": "[encoded data removed]",
      "text/plain": [
       "<Figure size 576x288 with 2 Axes>"
      ]
     },
     "metadata": {},
     "output_type": "display_data"
    }
   ],
   "source": [
    "fig,ax=table.plot(figsize=(8,4), subplots=True, layout=(2, 1),title='Average Daily Active Users',\n",
    "xlabel='Month',ylabel='DAU',xticks=table.index)\n",
    "\n",
    "# must define both xtick and ticklabel!\n",
    "# use axis object to change just one plot...\n",
    "ax[-1].set_xticklabels(stacked['month_year'].unique());\n",
    "\n",
    "# plt.sca(ax[0]) # set current axis\n",
    "\n"
   ]
  },
  {
   "cell_type": "markdown",
   "id": "rising-maine",
   "metadata": {},
   "source": [
    "Overall, many more Google Play users than iOS. Makes sense as many more would have android phone, so much cheaper. Decreasing trend, then something exciting seems to happen in August. Excitement is relatively greater and lasts longer in iOS world."
   ]
  },
  {
   "cell_type": "markdown",
   "id": "extraordinary-trouble",
   "metadata": {},
   "source": [
    "## Ex. 2. Calculate the ARPDAU (Average Revenue per Daily Active User) \n",
    "per each day, separately for each platform. Visualize it in timeline in a chart."
   ]
  },
  {
   "cell_type": "code",
   "execution_count": 21,
   "id": "greatest-ensemble",
   "metadata": {},
   "outputs": [
    {
     "data": {
      "text/html": [
       "<div>\n",
       "<style scoped>\n",
       "    .dataframe tbody tr th:only-of-type {\n",
       "        vertical-align: middle;\n",
       "    }\n",
       "\n",
       "    .dataframe tbody tr th {\n",
       "        vertical-align: top;\n",
       "    }\n",
       "\n",
       "    .dataframe thead th {\n",
       "        text-align: right;\n",
       "    }\n",
       "</style>\n",
       "<table border=\"1\" class=\"dataframe\">\n",
       "  <thead>\n",
       "    <tr style=\"text-align: right;\">\n",
       "      <th></th>\n",
       "      <th></th>\n",
       "      <th>ActiveUsers</th>\n",
       "      <th>Day 1</th>\n",
       "      <th>Day 10</th>\n",
       "      <th>Day 11</th>\n",
       "      <th>Day 12</th>\n",
       "      <th>Day 13</th>\n",
       "      <th>Day 14</th>\n",
       "      <th>Day 15</th>\n",
       "      <th>Day 16</th>\n",
       "      <th>Day 17</th>\n",
       "      <th>...</th>\n",
       "      <th>Day 29</th>\n",
       "      <th>Day 3</th>\n",
       "      <th>Day 4</th>\n",
       "      <th>Day 5</th>\n",
       "      <th>Day 6</th>\n",
       "      <th>Day 7</th>\n",
       "      <th>Day 8</th>\n",
       "      <th>Day 9</th>\n",
       "      <th>Revenue</th>\n",
       "      <th>month_year</th>\n",
       "    </tr>\n",
       "    <tr>\n",
       "      <th>Date</th>\n",
       "      <th>Platform</th>\n",
       "      <th></th>\n",
       "      <th></th>\n",
       "      <th></th>\n",
       "      <th></th>\n",
       "      <th></th>\n",
       "      <th></th>\n",
       "      <th></th>\n",
       "      <th></th>\n",
       "      <th></th>\n",
       "      <th></th>\n",
       "      <th></th>\n",
       "      <th></th>\n",
       "      <th></th>\n",
       "      <th></th>\n",
       "      <th></th>\n",
       "      <th></th>\n",
       "      <th></th>\n",
       "      <th></th>\n",
       "      <th></th>\n",
       "      <th></th>\n",
       "      <th></th>\n",
       "    </tr>\n",
       "  </thead>\n",
       "  <tbody>\n",
       "    <tr>\n",
       "      <th rowspan=\"2\" valign=\"top\">2019-04-01</th>\n",
       "      <th>Google Play</th>\n",
       "      <td>3312</td>\n",
       "      <td>0.4844</td>\n",
       "      <td>0.1133</td>\n",
       "      <td>0.0956</td>\n",
       "      <td>0.0778</td>\n",
       "      <td>0.0889</td>\n",
       "      <td>0.0778</td>\n",
       "      <td>0.0800</td>\n",
       "      <td>0.0711</td>\n",
       "      <td>0.0600</td>\n",
       "      <td>...</td>\n",
       "      <td>0.0400</td>\n",
       "      <td>0.2867</td>\n",
       "      <td>0.2311</td>\n",
       "      <td>0.1889</td>\n",
       "      <td>0.1889</td>\n",
       "      <td>0.1600</td>\n",
       "      <td>0.1444</td>\n",
       "      <td>0.1244</td>\n",
       "      <td>233</td>\n",
       "      <td>Apr 19</td>\n",
       "    </tr>\n",
       "    <tr>\n",
       "      <th>iOS</th>\n",
       "      <td>179</td>\n",
       "      <td>0.3913</td>\n",
       "      <td>0.0435</td>\n",
       "      <td>0.0435</td>\n",
       "      <td>0.0000</td>\n",
       "      <td>0.0000</td>\n",
       "      <td>0.0870</td>\n",
       "      <td>0.0870</td>\n",
       "      <td>0.0870</td>\n",
       "      <td>0.0435</td>\n",
       "      <td>...</td>\n",
       "      <td>0.0000</td>\n",
       "      <td>0.1304</td>\n",
       "      <td>0.1304</td>\n",
       "      <td>0.0870</td>\n",
       "      <td>0.1304</td>\n",
       "      <td>0.1739</td>\n",
       "      <td>0.1304</td>\n",
       "      <td>0.0870</td>\n",
       "      <td>26</td>\n",
       "      <td>Apr 19</td>\n",
       "    </tr>\n",
       "    <tr>\n",
       "      <th rowspan=\"2\" valign=\"top\">2019-04-02</th>\n",
       "      <th>Google Play</th>\n",
       "      <td>3416</td>\n",
       "      <td>0.5244</td>\n",
       "      <td>0.1356</td>\n",
       "      <td>0.1157</td>\n",
       "      <td>0.1067</td>\n",
       "      <td>0.1049</td>\n",
       "      <td>0.1085</td>\n",
       "      <td>0.0850</td>\n",
       "      <td>0.0958</td>\n",
       "      <td>0.0778</td>\n",
       "      <td>...</td>\n",
       "      <td>0.0470</td>\n",
       "      <td>0.2929</td>\n",
       "      <td>0.2622</td>\n",
       "      <td>0.2441</td>\n",
       "      <td>0.2043</td>\n",
       "      <td>0.1808</td>\n",
       "      <td>0.1700</td>\n",
       "      <td>0.1465</td>\n",
       "      <td>318</td>\n",
       "      <td>Apr 19</td>\n",
       "    </tr>\n",
       "    <tr>\n",
       "      <th>iOS</th>\n",
       "      <td>176</td>\n",
       "      <td>0.2917</td>\n",
       "      <td>0.0833</td>\n",
       "      <td>0.0833</td>\n",
       "      <td>0.0833</td>\n",
       "      <td>0.0833</td>\n",
       "      <td>0.0833</td>\n",
       "      <td>0.0833</td>\n",
       "      <td>0.0833</td>\n",
       "      <td>0.0833</td>\n",
       "      <td>...</td>\n",
       "      <td>0.0833</td>\n",
       "      <td>0.2917</td>\n",
       "      <td>0.3750</td>\n",
       "      <td>0.2917</td>\n",
       "      <td>0.1667</td>\n",
       "      <td>0.2083</td>\n",
       "      <td>0.1250</td>\n",
       "      <td>0.1250</td>\n",
       "      <td>15</td>\n",
       "      <td>Apr 19</td>\n",
       "    </tr>\n",
       "    <tr>\n",
       "      <th>2019-04-03</th>\n",
       "      <th>Google Play</th>\n",
       "      <td>3483</td>\n",
       "      <td>0.4972</td>\n",
       "      <td>0.1229</td>\n",
       "      <td>0.1192</td>\n",
       "      <td>0.1136</td>\n",
       "      <td>0.1080</td>\n",
       "      <td>0.0987</td>\n",
       "      <td>0.0801</td>\n",
       "      <td>0.0857</td>\n",
       "      <td>0.0782</td>\n",
       "      <td>...</td>\n",
       "      <td>0.0484</td>\n",
       "      <td>0.2756</td>\n",
       "      <td>0.2551</td>\n",
       "      <td>0.2160</td>\n",
       "      <td>0.2067</td>\n",
       "      <td>0.1769</td>\n",
       "      <td>0.1415</td>\n",
       "      <td>0.1304</td>\n",
       "      <td>279</td>\n",
       "      <td>Apr 19</td>\n",
       "    </tr>\n",
       "  </tbody>\n",
       "</table>\n",
       "<p>5 rows × 32 columns</p>\n",
       "</div>"
      ],
      "text/plain": [
       "                        ActiveUsers   Day 1  Day 10  Day 11  Day 12  Day 13  \\\n",
       "Date       Platform                                                           \n",
       "2019-04-01 Google Play         3312  0.4844  0.1133  0.0956  0.0778  0.0889   \n",
       "           iOS                  179  0.3913  0.0435  0.0435  0.0000  0.0000   \n",
       "2019-04-02 Google Play         3416  0.5244  0.1356  0.1157  0.1067  0.1049   \n",
       "           iOS                  176  0.2917  0.0833  0.0833  0.0833  0.0833   \n",
       "2019-04-03 Google Play         3483  0.4972  0.1229  0.1192  0.1136  0.1080   \n",
       "\n",
       "                        Day 14  Day 15  Day 16  Day 17  ...  Day 29   Day 3  \\\n",
       "Date       Platform                                     ...                   \n",
       "2019-04-01 Google Play  0.0778  0.0800  0.0711  0.0600  ...  0.0400  0.2867   \n",
       "           iOS          0.0870  0.0870  0.0870  0.0435  ...  0.0000  0.1304   \n",
       "2019-04-02 Google Play  0.1085  0.0850  0.0958  0.0778  ...  0.0470  0.2929   \n",
       "           iOS          0.0833  0.0833  0.0833  0.0833  ...  0.0833  0.2917   \n",
       "2019-04-03 Google Play  0.0987  0.0801  0.0857  0.0782  ...  0.0484  0.2756   \n",
       "\n",
       "                         Day 4   Day 5   Day 6   Day 7   Day 8   Day 9  \\\n",
       "Date       Platform                                                      \n",
       "2019-04-01 Google Play  0.2311  0.1889  0.1889  0.1600  0.1444  0.1244   \n",
       "           iOS          0.1304  0.0870  0.1304  0.1739  0.1304  0.0870   \n",
       "2019-04-02 Google Play  0.2622  0.2441  0.2043  0.1808  0.1700  0.1465   \n",
       "           iOS          0.3750  0.2917  0.1667  0.2083  0.1250  0.1250   \n",
       "2019-04-03 Google Play  0.2551  0.2160  0.2067  0.1769  0.1415  0.1304   \n",
       "\n",
       "                        Revenue  month_year  \n",
       "Date       Platform                          \n",
       "2019-04-01 Google Play      233      Apr 19  \n",
       "           iOS               26      Apr 19  \n",
       "2019-04-02 Google Play      318      Apr 19  \n",
       "           iOS               15      Apr 19  \n",
       "2019-04-03 Google Play      279      Apr 19  \n",
       "\n",
       "[5 rows x 32 columns]"
      ]
     },
     "execution_count": 21,
     "metadata": {},
     "output_type": "execute_result"
    }
   ],
   "source": [
    "#print(stacked.groupby(['month_year','Platform'],sort=False).groups.keys())\n",
    "stacked['ActiveUsers'].describe()\n",
    "stacked.head()\n"
   ]
  },
  {
   "cell_type": "code",
   "execution_count": 22,
   "id": "ancient-dragon",
   "metadata": {},
   "outputs": [
    {
     "name": "stdout",
     "output_type": "stream",
     "text": [
      "Platform    Google Play       iOS\n",
      "Date                             \n",
      "2019-04-01     0.070350  0.145251\n",
      "2019-04-02     0.093091  0.085227\n",
      "2019-04-03     0.080103  0.177215\n",
      "2019-04-04     0.065908  0.000000\n",
      "2019-04-05     0.091430  0.024540\n",
      "...                 ...       ...\n",
      "2019-11-26     0.019973  0.296992\n",
      "2019-11-27     0.031919  0.101887\n",
      "2019-11-28     0.025033  0.050584\n",
      "2019-11-29     0.025426  0.115894\n",
      "2019-11-30     0.021538  0.110032\n",
      "\n",
      "[244 rows x 2 columns]\n"
     ]
    }
   ],
   "source": [
    "stacked['AvgRevPerUser']=stacked['Revenue']/stacked['ActiveUsers']\n",
    "table2 = stacked.pivot_table(index='Date',columns='Platform',values='AvgRevPerUser')\n",
    "print(table2)"
   ]
  },
  {
   "cell_type": "code",
   "execution_count": 25,
   "id": "neural-midwest",
   "metadata": {},
   "outputs": [
    {
     "data": {
      "text/plain": [
       "<matplotlib.legend.Legend at 0x7ff2f5c184d0>"
      ]
     },
     "execution_count": 25,
     "metadata": {},
     "output_type": "execute_result"
    },
    {
     "data": {
      "image/png": "[encoded data removed]",
      "text/plain": [
       "<Figure size 576x288 with 1 Axes>"
      ]
     },
     "metadata": {},
     "output_type": "display_data"
    }
   ],
   "source": [
    "table2.plot(figsize=(8,4), subplots=False,title='Average Revenue per Daily Active User',\n",
    "xlabel='Date',ylabel='ARPDAU (USD)')\n",
    "ax=plt.gca()\n",
    "ax.set_facecolor('white')\n",
    "ax.yaxis.set_major_formatter(FormatStrFormatter('%.2f'))\n",
    "plt.legend(facecolor='white')\n",
    "# must define both xtick and ticklabel!\n",
    "# use axis object to change just one plot...\n",
    "#ax[-1].set_xticklabels(stacked['month_year'].unique());"
   ]
  },
  {
   "cell_type": "markdown",
   "id": "enabling-stand",
   "metadata": {},
   "source": [
    "## Ex.3: Assuming the 1st of April 2019 is the Launch Date for the game, \n",
    "calculate the cumulative revenue of the “average” user that installed the game on the 1st of April for the first week after launch. To do so, use Return Rate and ARPDAU. Split the analysis by platform. \n",
    "\n",
    "https://www.shanelynn.ie/summarising-aggregation-and-grouping-data-in-python-pandas/\n"
   ]
  },
  {
   "cell_type": "code",
   "execution_count": 26,
   "id": "opening-document",
   "metadata": {},
   "outputs": [],
   "source": [
    "# just extract the columns that contain day 1-7. What next? \n",
    "howmanydays = 7\n",
    "day_cols=[col for col in stacked.columns if col.startswith('Day') and int(col[4:]) <= howmanydays]\n",
    "# print(day_cols)\n",
    "# for i in day_cols:\n",
    "#     print(i[4:])\n",
    "#     print(int(i[4:])<=7)\n",
    "    \n",
    "cumRev = stacked.reindex(sorted(day_cols,key=lambda x: int(x[4:])), axis=1)"
   ]
  },
  {
   "cell_type": "code",
   "execution_count": 27,
   "id": "boxed-mistake",
   "metadata": {},
   "outputs": [
    {
     "name": "stdout",
     "output_type": "stream",
     "text": [
      "Day 1\n",
      "Day 2\n",
      "Day 3\n",
      "Day 4\n",
      "Day 5\n",
      "Day 6\n",
      "Day 7\n"
     ]
    }
   ],
   "source": [
    "cumRev['sumcumR']=0\n",
    "for col in day_cols:\n",
    "    print(col)\n",
    "    cumRev[col+'_cumR']=cumRev[col]*stacked['AvgRevPerUser']\n",
    "    cumRev['sumcumR']=cumRev['sumcumR']+(cumRev[col]*stacked['AvgRevPerUser'])"
   ]
  },
  {
   "cell_type": "code",
   "execution_count": 28,
   "id": "ordinary-correlation",
   "metadata": {},
   "outputs": [
    {
     "name": "stdout",
     "output_type": "stream",
     "text": [
      "Platform\n",
      "Google Play    0.133820\n",
      "iOS            0.195755\n",
      "Name: sumcumR, dtype: float64\n"
     ]
    }
   ],
   "source": [
    "whichDate='2019-04-01'\n",
    "day_str=datetime.strptime(whichDate, '%Y-%m-%d').strftime('%d %B %Y')\n",
    "#cumRev['sumcumR'] = cumRev['sumcumR'].map('${:,.2f}'.format) # bad idea, returns strings\n",
    "cumRev_on_day = cumRev.loc[whichDate].groupby('Platform')['sumcumR'].sum()\n",
    "\n",
    "print(cumRev_on_day)"
   ]
  },
  {
   "cell_type": "code",
   "execution_count": 33,
   "id": "stopped-confidence",
   "metadata": {},
   "outputs": [
    {
     "data": {
      "image/png": "[encoded data removed]",
      "text/plain": [
       "<Figure size 576x432 with 1 Axes>"
      ]
     },
     "metadata": {},
     "output_type": "display_data"
    }
   ],
   "source": [
    "fig,ax=plt.subplots(1,1)\n",
    "cumRev_on_day.plot.bar(figsize=(8,6), subplots=False,\n",
    "     xlabel='Platform',ylabel='Cumulative Revenue (USD)',rot=0)\n",
    "\n",
    "ax=plt.gca()\n",
    "\n",
    "plt.suptitle('Cumulative revenue of the “average” user*', y=1, fontsize=18)\n",
    "plt.title('*7 day sum from launch date on ' + day_str, fontsize=10)\n",
    "ax.yaxis.set_major_formatter(FormatStrFormatter('%.2f'))\n"
   ]
  }
 ],
 "metadata": {
  "kernelspec": {
   "display_name": "Python 3",
   "language": "python",
   "name": "python3"
  },
  "language_info": {
   "codemirror_mode": {
    "name": "ipython",
    "version": 3
   },
   "file_extension": ".py",
   "mimetype": "text/x-python",
   "name": "python",
   "nbconvert_exporter": "python",
   "pygments_lexer": "ipython3",
   "version": "3.7.9"
  }
 },
 "nbformat": 4,
 "nbformat_minor": 5
}
